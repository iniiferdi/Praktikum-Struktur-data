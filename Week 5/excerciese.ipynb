{
 "cells": [
  {
   "cell_type": "markdown",
   "metadata": {},
   "source": [
    "# 👨‍💻 Ferdiyanto - Tidar University Information Technology  \n",
    "Welcome to my *Jupyter Notebook*!  \n",
    "I am **Ferdiyanto**, a student of **Information Technology** at **Tidar University**.  \n",
    "Currently, I'm learning about **Algoritm Searching** in programming.  \n",
    "\n",
    "📌 **Read my writing on Medium:**  \n",
    "➡ [Medium - Ferdiyanto](https://medium.com/@akun.ferdiyanto)  \n",
    "\n",
    "📌 **View my portfolio:**  \n",
    "➡ [Portfolio - Ferdiyanto](https://iniiferdi.vercel.app/)  \n",
    "\n",
    "---"
   ]
  },
  {
   "cell_type": "markdown",
   "metadata": {},
   "source": [
    "> **💡 Excercies 1**  \n",
    "> *Implementasi Linear Search*\n",
    "\n",
    "---\n",
    "\n",
    "**✨ Solution**\n",
    "\n",
    "Python Implementation:"
   ]
  },
  {
   "cell_type": "code",
   "execution_count": 1,
   "metadata": {},
   "outputs": [
    {
     "name": "stdout",
     "output_type": "stream",
     "text": [
      "Elemen ditemukan pada indek ke-6\n"
     ]
    }
   ],
   "source": [
    "def linear_search(arr, target):\n",
    "    for i in range(len(arr)):\n",
    "        if arr[i] == target:\n",
    "            return i\n",
    "    return -1\n",
    "    \n",
    "arr = [7, 8, 9, 3, 5, 2, 6]\n",
    "\n",
    "target = int(input('masukan satu digit terakhir npm anda'))\n",
    "\n",
    "result = linear_search(arr, target)\n",
    "\n",
    "if result != -1:\n",
    "    print(f\"Elemen ditemukan pada indek ke-{result}\")\n",
    "else:\n",
    "    print(\"Elemen tidak ditemukan\")"
   ]
  },
  {
   "cell_type": "markdown",
   "metadata": {},
   "source": [
    "> **💡 Excercies 2**  \n",
    "> *Implementasi Binary Search*\n",
    "\n",
    "---\n",
    "\n",
    "**✨ Solution**\n",
    "\n",
    "Python Implementation:"
   ]
  },
  {
   "cell_type": "code",
   "execution_count": 3,
   "metadata": {},
   "outputs": [
    {
     "name": "stdout",
     "output_type": "stream",
     "text": [
      "Elemen ditemukan pada indeks ke-2\n"
     ]
    }
   ],
   "source": [
    "def binary_search(arr, target):\n",
    "    low, high = 0, len(arr)-1\n",
    "    \n",
    "    while low <= high:\n",
    "        mid = (low + high) // 2\n",
    "        if arr[mid] == target:\n",
    "            return mid\n",
    "        elif arr[mid] < target:\n",
    "            low = mid + 1\n",
    "        else:\n",
    "            high = mid - 1\n",
    "            \n",
    "    return -1\n",
    "\n",
    "arr  = [1010, 1020, 2030, 1040, 2050]\n",
    "\n",
    "target = int(input('Masukan tanggal lahir anda:'))\n",
    "\n",
    "result  = binary_search(arr, target)\n",
    "\n",
    "if result != -1:\n",
    "    print(f\"Elemen ditemukan pada indeks ke-{result}\")\n",
    "else:\n",
    "    print(\"Elemen tidak ditemukan\")"
   ]
  },
  {
   "cell_type": "markdown",
   "metadata": {},
   "source": [
    "> **💡 Excercies 3**  \n",
    "> *Implementasi Jump Search*\n",
    "\n",
    "---\n",
    "\n",
    "**✨ Solution**\n",
    "\n",
    "Python Implementation:"
   ]
  },
  {
   "cell_type": "code",
   "execution_count": 4,
   "metadata": {},
   "outputs": [
    {
     "name": "stdout",
     "output_type": "stream",
     "text": [
      "Elemen ditemukan pada indeks ke-3\n"
     ]
    }
   ],
   "source": [
    "import math\n",
    "\n",
    "def jump_search(arr, target):\n",
    "    n = len(arr)\n",
    "    step = int(math.sqrt(n))\n",
    "    prev  = 0\n",
    "    \n",
    "    while prev < n and arr[min(step, n) - 1] < target:\n",
    "        prev = step\n",
    "        step += int(math.sqrt(n))\n",
    "        if prev >= n:\n",
    "            return -1\n",
    "        \n",
    "    for i in range(prev, min(step,n)):\n",
    "        if arr[i] == target:\n",
    "            return i\n",
    "    return -1\n",
    "\n",
    "arr = ['Asep', 'Budi', 'Cou', 'Desi', 'Fajar']\n",
    "target = input('Masukan nama teman anda:')\n",
    "\n",
    "result = jump_search(arr, target)\n",
    "\n",
    "if result != -1:\n",
    "    print(f\"Elemen ditemukan pada indeks ke-{result}\")\n",
    "else:\n",
    "    print(\"Elemen tidak ditemukan\")"
   ]
  }
 ],
 "metadata": {
  "kernelspec": {
   "display_name": "Python 3",
   "language": "python",
   "name": "python3"
  },
  "language_info": {
   "codemirror_mode": {
    "name": "ipython",
    "version": 3
   },
   "file_extension": ".py",
   "mimetype": "text/x-python",
   "name": "python",
   "nbconvert_exporter": "python",
   "pygments_lexer": "ipython3",
   "version": "3.13.0"
  }
 },
 "nbformat": 4,
 "nbformat_minor": 2
}
