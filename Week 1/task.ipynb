{
 "cells": [
  {
   "cell_type": "markdown",
   "metadata": {},
   "source": [
    "# 👨‍💻 Ferdiyanto - Tidar University Information Technology  \n",
    "Welcome to my *Jupyter Notebook*!  \n",
    "I am **Ferdiyanto**, a student of **Information Technology** at **Tidar University**.  \n",
    "Currently, I'm learning about **Arrays** in programming.  \n",
    "\n",
    "📌 **Read my writing on Medium:**  \n",
    "➡ [Medium - Ferdiyanto](https://medium.com/@akun.ferdiyanto)  \n",
    "\n",
    "📌 **View my portfolio:**  \n",
    "➡ [Portfolio - Ferdiyanto](https://iniiferdi.vercel.app/)  \n",
    "\n",
    "---"
   ]
  },
  {
   "cell_type": "code",
   "execution_count": null,
   "metadata": {},
   "outputs": [
    {
     "name": "stdout",
     "output_type": "stream",
     "text": [
      "Selamat datang di Treasure Hunt! Peta memiliki 10 lokasi (0 hingga 9).\n",
      "\n",
      "Harta karun telah disembunyikan! Sekarang giliran pemain menebak.\n",
      "Cobalah untuk menemukan harta karun dengan menebak indeks yang benar.\n",
      "\n",
      "\n",
      "Peta saat ini: ['_', '_', '_', '_', '_', '_', '_', '_', '_', '_']\n",
      "❌ Tidak ada harta di lokasi ini. Coba lagi!\n",
      "\n",
      "Peta saat ini: ['_', '_', '_', '_', '_', '_', '_', '_', '_', '_']\n",
      "❌ Tidak ada harta di lokasi ini. Coba lagi!\n",
      "\n",
      "Peta saat ini: ['_', '_', '_', '_', '_', '_', '_', '_', '_', '_']\n",
      "🎉 Selamat! Kamu menemukan harta karun di lokasi: 6\n",
      "Terima kasih sudah bermain!\n"
     ]
    }
   ],
   "source": [
    "import random\n",
    "\n",
    "# Ukuran peta\n",
    "size = int(input('Masukan ukuran Peta:'))\n",
    "\n",
    "# Membuat peta dengan harta karun tersembunyi\n",
    "treasure_map = [\"_\" for _ in range(size)]\n",
    "\n",
    "# Tentukan lokasi harta karun secara manual\n",
    "print(f\"Selamat datang di Treasure Hunt! Peta memiliki {size} lokasi (0 hingga {size-1}).\")\n",
    "\n",
    "while True:\n",
    "    try:\n",
    "        treasure_index = random.randint(0, size - 1)\n",
    "        if 0 <= treasure_index < size:\n",
    "            break\n",
    "        else:\n",
    "            print(\"Lokasi tidak valid. Masukkan angka dalam rentang yang benar.\")\n",
    "    except ValueError:\n",
    "        print(\"Masukkan angka yang valid!\")\n",
    "\n",
    "treasure_map[treasure_index] = \"X\"  # Menyembunyikan harta karun di lokasi yang dipilih\n",
    "\n",
    "# Fungsi untuk memulai permainan\n",
    "def play_treasure_hunt():\n",
    "    print(\"\\nHarta karun telah disembunyikan! Sekarang giliran pemain menebak.\")\n",
    "    print(\"Cobalah untuk menemukan harta karun dengan menebak indeks yang benar.\\n\")\n",
    "\n",
    "    # Loop permainan\n",
    "    while True:\n",
    "        # Menampilkan peta tersembunyi kepada pemain\n",
    "        print(\"\\nPeta saat ini:\", [\"_\" for _ in range(size)])  # Peta tersembunyi\n",
    "\n",
    "        # Input pemain\n",
    "        try:\n",
    "            guess = int(input(f\"Masukkan indeks tebakanmu (0-{size-1}): \"))\n",
    "\n",
    "            # Validasi input\n",
    "            if guess < 0 or guess >= size:\n",
    "                print(f\"Indeks tidak valid, pilih antara 0 hingga {size-1}\")\n",
    "                continue\n",
    "\n",
    "            # Mengecek apakah tebakan benar\n",
    "            if treasure_map[guess] == \"X\":\n",
    "                print(f\"🎉 Selamat! Kamu menemukan harta karun di lokasi: {guess}\")\n",
    "                break\n",
    "            else:\n",
    "                print(\"❌ Tidak ada harta di lokasi ini. Coba lagi!\")\n",
    "\n",
    "        except ValueError:\n",
    "            print(\"Masukkan angka yang valid!\")\n",
    "\n",
    "    print(\"Terima kasih sudah bermain!\")\n",
    "\n",
    "# Jalankan permainan\n",
    "play_treasure_hunt()"
   ]
  }
 ],
 "metadata": {
  "kernelspec": {
   "display_name": "Python 3",
   "language": "python",
   "name": "python3"
  },
  "language_info": {
   "codemirror_mode": {
    "name": "ipython",
    "version": 3
   },
   "file_extension": ".py",
   "mimetype": "text/x-python",
   "name": "python",
   "nbconvert_exporter": "python",
   "pygments_lexer": "ipython3",
   "version": "3.13.0"
  }
 },
 "nbformat": 4,
 "nbformat_minor": 2
}
