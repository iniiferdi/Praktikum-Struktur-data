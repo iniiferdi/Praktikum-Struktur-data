{
 "cells": [
  {
   "cell_type": "code",
   "execution_count": 10,
   "metadata": {},
   "outputs": [
    {
     "name": "stdout",
     "output_type": "stream",
     "text": [
      "Array before insertion: 1 | 2 | 3 | 4 | 5 | \n",
      "Array after insertion: 1 | 2 | 2 | 3 | 4 | 5 | "
     ]
    }
   ],
   "source": [
    "import array as arr\n",
    "\n",
    "arr = arr.array('i', [1,2,3,4,5])\n",
    "\n",
    "print('Array before insertion', end=': ')\n",
    "\n",
    "for i in range(0, 5):\n",
    "    print(arr[i], end=' | ')\n",
    "    \n",
    "print()\n",
    "    \n",
    "arr.insert(1, 2)\n",
    "\n",
    "print('Array after insertion', end=': ')\n",
    "\n",
    "for i in (arr):\n",
    "    print(i, end=' | ')"
   ]
  }
 ],
 "metadata": {
  "kernelspec": {
   "display_name": "Python 3",
   "language": "python",
   "name": "python3"
  },
  "language_info": {
   "codemirror_mode": {
    "name": "ipython",
    "version": 3
   },
   "file_extension": ".py",
   "mimetype": "text/x-python",
   "name": "python",
   "nbconvert_exporter": "python",
   "pygments_lexer": "ipython3",
   "version": "3.13.0"
  }
 },
 "nbformat": 4,
 "nbformat_minor": 2
}
