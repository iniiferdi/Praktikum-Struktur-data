{
 "cells": [
  {
   "cell_type": "code",
   "execution_count": 26,
   "metadata": {},
   "outputs": [
    {
     "name": "stdout",
     "output_type": "stream",
     "text": [
      "karalyert 1 2 3 AFTER 7 1 2 3 \n",
      "2.4 4.5 6.7 After 2.4 4.5 6.7 7.7 "
     ]
    }
   ],
   "source": [
    "import array as arr\n",
    "\n",
    "a = arr.array('i', [1,2,3])\n",
    "\n",
    "print('karalyert' , end=' ')\n",
    "for i in range(0, 3):\n",
    "    print( a[i], end=' ')\n",
    "    \n",
    "a.insert(0, 7)\n",
    "print('AFTER' , end=' ')\n",
    "for i in (a):\n",
    "    print(i, end=' ')\n",
    "    \n",
    "print()\n",
    "\n",
    "b = arr.array('d', [2.4, 4.5, 6.7])\n",
    "for d in range(0, 3):\n",
    "    print(b[d], end=' ')\n",
    "\n",
    "b.append(7.7)\n",
    "print('After', end=' ')\n",
    "for d in (b):\n",
    "    print(d, end=' ')\n"
   ]
  },
  {
   "cell_type": "code",
   "execution_count": null,
   "metadata": {},
   "outputs": [
    {
     "name": "stdout",
     "output_type": "stream",
     "text": [
      "Array Create 1 3 45 6 7 8 9 \n",
      "Popo 45\n",
      "poping 1 3 6 7 8 9 "
     ]
    },
    {
     "ename": "ValueError",
     "evalue": "array.remove(x): x not in array",
     "output_type": "error",
     "traceback": [
      "\u001b[1;31m---------------------------------------------------------------------------\u001b[0m",
      "\u001b[1;31mValueError\u001b[0m                                Traceback (most recent call last)",
      "Cell \u001b[1;32mIn[49], line 13\u001b[0m\n\u001b[0;32m     10\u001b[0m \u001b[38;5;28;01mfor\u001b[39;00m i \u001b[38;5;129;01min\u001b[39;00m \u001b[38;5;28mrange\u001b[39m(\u001b[38;5;241m0\u001b[39m, \u001b[38;5;241m6\u001b[39m):\n\u001b[0;32m     11\u001b[0m     \u001b[38;5;28mprint\u001b[39m(arr[i], end\u001b[38;5;241m=\u001b[39m\u001b[38;5;124m'\u001b[39m\u001b[38;5;124m \u001b[39m\u001b[38;5;124m'\u001b[39m)\n\u001b[1;32m---> 13\u001b[0m \u001b[43marr\u001b[49m\u001b[38;5;241;43m.\u001b[39;49m\u001b[43mremove\u001b[49m\u001b[43m(\u001b[49m\u001b[38;5;241;43m0\u001b[39;49m\u001b[43m)\u001b[49m\n\u001b[0;32m     14\u001b[0m \u001b[38;5;28mprint\u001b[39m(\u001b[38;5;124m'\u001b[39m\u001b[38;5;130;01m\\r\u001b[39;00m\u001b[38;5;124m'\u001b[39m)\n\u001b[0;32m     15\u001b[0m \u001b[38;5;28mprint\u001b[39m(\u001b[38;5;124m'\u001b[39m\u001b[38;5;124mArray remmovig\u001b[39m\u001b[38;5;124m'\u001b[39m, end\u001b[38;5;241m=\u001b[39m\u001b[38;5;124m'\u001b[39m\u001b[38;5;124m \u001b[39m\u001b[38;5;124m'\u001b[39m)\n",
      "\u001b[1;31mValueError\u001b[0m: array.remove(x): x not in array"
     ]
    }
   ],
   "source": [
    "import array as arr\n",
    "\n",
    "arr = arr.array('i', [1,3,45,6,7,8,9])\n",
    "print('Array Create ', end='')\n",
    "for i in range(0, 7):\n",
    "    print(arr[i], end=' ')\n",
    "    \n",
    "print('\\r')\n",
    "print(f'Popo {arr.pop(2)}')\n",
    "print('poping', end=' ')\n",
    "for i in range(0, 6):\n",
    "    print(arr[i], end=' ')\n",
    "    \n",
    "arr.remove(7)\n",
    "print('\\r')\n",
    "print('Array remmovig', end=' ')\n",
    "for i in range(0, 5):\n",
    "    print(arr[i], end=' ')\n",
    "\n",
    "\n",
    "\n"
   ]
  },
  {
   "cell_type": "code",
   "execution_count": 9,
   "metadata": {},
   "outputs": [
    {
     "name": "stdout",
     "output_type": "stream",
     "text": [
      "Array before insertion: 1 | 2 | 3 | 4 | 5 | \n",
      "Array after insertion: 1 | 3 | 2 | 3 | 4 | 5 | "
     ]
    }
   ],
   "source": [
    "import array as arr\n",
    "\n",
    "arr = arr.array('i', [1,2,3,4,5])\n",
    "\n",
    "print('Array before insertion', end=': ')\n",
    "\n",
    "for i in range(0, 5):\n",
    "    print(arr[i], end=' | ')\n",
    "    \n",
    "print()\n",
    "    \n",
    "arr.insert(1, 2)\n",
    "\n",
    "print('Array after insertion', end=': ')\n",
    "\n",
    "for i in (arr):\n",
    "    print(i, end=' | ')"
   ]
  }
 ],
 "metadata": {
  "kernelspec": {
   "display_name": "Python 3",
   "language": "python",
   "name": "python3"
  },
  "language_info": {
   "codemirror_mode": {
    "name": "ipython",
    "version": 3
   },
   "file_extension": ".py",
   "mimetype": "text/x-python",
   "name": "python",
   "nbconvert_exporter": "python",
   "pygments_lexer": "ipython3",
   "version": "3.13.0"
  }
 },
 "nbformat": 4,
 "nbformat_minor": 2
}
