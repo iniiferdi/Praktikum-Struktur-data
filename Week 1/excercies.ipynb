{
 "cells": [
  {
   "cell_type": "markdown",
   "metadata": {},
   "source": [
    "# 👨‍💻 Ferdiyanto - Tidar University Information Technology  \n",
    "Welcome to my *Jupyter Notebook*!  \n",
    "I am **Ferdiyanto**, a student of **Information Technology** at **Tidar University**.  \n",
    "Currently, I'm learning about **Arrays** in programming.  \n",
    "\n",
    "📌 **Read my writing on Medium:**  \n",
    "➡ [Medium - Ferdiyanto](https://medium.com/@akun.ferdiyanto)  \n",
    "\n",
    "📌 **View my portfolio:**  \n",
    "➡ [Portfolio - Ferdiyanto](https://iniiferdi.vercel.app/)  \n",
    "\n",
    "---"
   ]
  },
  {
   "cell_type": "markdown",
   "metadata": {},
   "source": [
    "> **💡 Excercies 1**  \n",
    "> *Buatlah array yang berisi NPM Anda diikuti dengan 4 NPM sebelum ATAU setelahnya.  \n",
    "> Anda kemudian tampilkan isi array tersebut!*\n",
    "\n",
    "---\n",
    "\n",
    "**✨ Solution**\n",
    "\n",
    "Python Implementation:"
   ]
  },
  {
   "cell_type": "code",
   "execution_count": null,
   "metadata": {},
   "outputs": [
    {
     "name": "stdout",
     "output_type": "stream",
     "text": [
      "The Npm = 2410506007\n"
     ]
    }
   ],
   "source": [
    "npm = []\n",
    "npm = [2410506007, 2410506008, 2410506009, 2410506010, 2410506011]\n",
    "\n",
    "print(f'The Npm = {npm}')"
   ]
  },
  {
   "cell_type": "markdown",
   "metadata": {},
   "source": [
    "> **💡 Excercies 2**  \n",
    "> *Tambahkan nilai NPM Anda (2 digit terakhir) ke dalam array angka dan hapus elemen pertama!*\n",
    "\n",
    "---\n",
    "\n",
    "**✨ Solution**\n",
    "\n",
    "Python Implementation:"
   ]
  },
  {
   "cell_type": "code",
   "execution_count": 22,
   "metadata": {},
   "outputs": [
    {
     "name": "stdout",
     "output_type": "stream",
     "text": [
      "The Arrays after Adding Element = [10, 20, 30, 40, 50, 7]\n",
      "The Arrays after Removing First Element = [20, 30, 40, 50, 7]\n"
     ]
    }
   ],
   "source": [
    "number = []\n",
    "number = [10, 20, 30, 40, 50]\n",
    "\n",
    "number.append(7)\n",
    "print(f'The Arrays after Adding Element = {number}')\n",
    "\n",
    "number.pop(0)\n",
    "print(f'The Arrays after Removing First Element = {number}')"
   ]
  },
  {
   "cell_type": "markdown",
   "metadata": {},
   "source": [
    "> **💡 Excercies 3**  \n",
    "> *Buat program untuk menampilkan semua nama Fakultas di Untidar dengan array dan perulangan.*\n",
    "\n",
    "---\n",
    "\n",
    "**✨ Solution**\n",
    "\n",
    "Python Implementation:"
   ]
  },
  {
   "cell_type": "code",
   "execution_count": 3,
   "metadata": {},
   "outputs": [
    {
     "name": "stdout",
     "output_type": "stream",
     "text": [
      "The faculties at the university are silent\n",
      "Faculty of Engineering\n",
      "Faculty of Economics\n",
      "Faculty of Teacher Training and Education\n",
      "Faculty of Social and Political Sciences\n",
      "Faculty of Agriculture\n"
     ]
    }
   ],
   "source": [
    "faculty_untidar = ['Faculty of Engineering',\n",
    "                   'Faculty of Economics',\n",
    "                   'Faculty of Teacher Training and Education',\n",
    "                   'Faculty of Social and Political Sciences',\n",
    "                   'Faculty of Agriculture']\n",
    "\n",
    "print(\"The faculties at the university are silent\")\n",
    "\n",
    "for faculty in faculty_untidar:\n",
    "    print(faculty)"
   ]
  },
  {
   "cell_type": "markdown",
   "metadata": {},
   "source": [
    "> **💡 Excercies 4**  \n",
    "> *Buatlah array yang berisi harga barang dan hitung jumlah elemen dari array tersebut!.*\n",
    "\n",
    "---\n",
    "\n",
    "**✨ Solution**\n",
    "\n",
    "Python Implementation:"
   ]
  },
  {
   "cell_type": "code",
   "execution_count": 4,
   "metadata": {},
   "outputs": [
    {
     "name": "stdout",
     "output_type": "stream",
     "text": [
      "The number of elements of the array is $41000000\n"
     ]
    }
   ],
   "source": [
    "price = [2000000,30000000,4000000,5000000]\n",
    "\n",
    "print(f'The number of elements of the array is ${sum(price)}')"
   ]
  },
  {
   "cell_type": "markdown",
   "metadata": {},
   "source": [
    "> **💡 Excercies 5**  \n",
    "> *Buatlah array 2D yang berisi 3 baris dan 4 kolom, lalu tampilkan isi array tersebut menggunakan perulangan!*\n",
    "\n",
    "---\n",
    "\n",
    "**✨ Solution**\n",
    "\n",
    "Python Implementation:"
   ]
  },
  {
   "cell_type": "code",
   "execution_count": 14,
   "metadata": {},
   "outputs": [
    {
     "name": "stdout",
     "output_type": "stream",
     "text": [
      "The value of Array 2-dimensional\n",
      "[10, 20, 30, 40]\n",
      "[50, 60, 70, 80]\n",
      "[90, 96, 98, 99]\n"
     ]
    }
   ],
   "source": [
    "matriks = [\n",
    "    [10,20,30,40],\n",
    "    [50,60,70,80],\n",
    "    [90,96,98,99],\n",
    "]\n",
    "\n",
    "print('The value of Array 2-dimensional')\n",
    "for line in matriks:\n",
    "    print(line)"
   ]
  },
  {
   "cell_type": "markdown",
   "metadata": {},
   "source": [
    "> **💡 Excercies 6**  \n",
    "> *Akses elemen pada baris 2 kolom 4 dari array 2 dimensi yang telah Anda buat pada Excercies 5!*\n",
    "\n",
    "---\n",
    "\n",
    "**✨ Solution**\n",
    "\n",
    "Python Implementation:"
   ]
  },
  {
   "cell_type": "code",
   "execution_count": 15,
   "metadata": {},
   "outputs": [
    {
     "name": "stdout",
     "output_type": "stream",
     "text": [
      "The Element of line-2 and row-4 is 80\n"
     ]
    }
   ],
   "source": [
    "print(f'The Element of line-2 and row-4 is {matriks[1][3]}')"
   ]
  },
  {
   "cell_type": "markdown",
   "metadata": {},
   "source": [
    "> **💡 Excercies 7**  \n",
    "> *Tambahkan baris baru yang berisi tanggal lahir, bulan lahir, 2 digit awal tahun lahir, dan digit terakhir tahun lahir Anda, dan tampilkan dalam bentuk baris dan kolom!*\n",
    "\n",
    "---\n",
    "\n",
    "**✨ Solution**\n",
    "\n",
    "Python Implementation:"
   ]
  },
  {
   "cell_type": "code",
   "execution_count": 16,
   "metadata": {},
   "outputs": [
    {
     "name": "stdout",
     "output_type": "stream",
     "text": [
      "The value of Array 2-dimensional after Create a New Line\n",
      "[10, 20, 30, 40]\n",
      "[50, 60, 70, 80]\n",
      "[90, 96, 98, 99]\n",
      "[2, 5, 20, 6]\n"
     ]
    }
   ],
   "source": [
    "matriks.append([2, 5, 20, 6])\n",
    "\n",
    "print('The value of Array 2-dimensional after Create a New Line')\n",
    "for line in matriks:\n",
    "    print(line)"
   ]
  },
  {
   "cell_type": "markdown",
   "metadata": {},
   "source": [
    "> **💡 Excercies 8**  \n",
    "> *Modifikasilah array pada Excercies sebelumnya untuk menghapus elemen ke-3 dari baris terakhir!*\n",
    "\n",
    "---\n",
    "\n",
    "**✨ Solution**\n",
    "\n",
    "Python Implementation:"
   ]
  },
  {
   "cell_type": "code",
   "execution_count": 17,
   "metadata": {},
   "outputs": [
    {
     "name": "stdout",
     "output_type": "stream",
     "text": [
      "The value of Array 2-dimensional after Deleted a Elemen\n",
      "[10, 20, 30, 40]\n",
      "[50, 60, 70, 80]\n",
      "[90, 96, 98, 99]\n",
      "[2, 5, 6]\n"
     ]
    }
   ],
   "source": [
    "matriks[3].pop(2)\n",
    "\n",
    "print('The value of Array 2-dimensional after Deleted a Elemen')\n",
    "for line in matriks:\n",
    "    print(line)"
   ]
  },
  {
   "cell_type": "markdown",
   "metadata": {},
   "source": [
    "> **💡 Excercies 9**  \n",
    "> *Ubah elemen pada baris terakhir kolom terakhir dengan tanggal hari ini!!*\n",
    "\n",
    "---\n",
    "\n",
    "**✨ Solution**\n",
    "\n",
    "Python Implementation:"
   ]
  },
  {
   "cell_type": "code",
   "execution_count": 9,
   "metadata": {},
   "outputs": [
    {
     "name": "stdout",
     "output_type": "stream",
     "text": [
      "The value of Array 2-dimensional after Edited a Elemen\n",
      "[10, 20, 30, 40]\n",
      "[50, 60, 70, 80]\n",
      "[90, 96, 98, 99]\n",
      "[2, 5, 14]\n"
     ]
    }
   ],
   "source": [
    "matriks[3][2] = 14\n",
    "\n",
    "print('The value of Array 2-dimensional after Edited a Elemen')\n",
    "for line in matriks:\n",
    "    print(line)"
   ]
  },
  {
   "cell_type": "markdown",
   "metadata": {},
   "source": [
    "> **💡 Excercies 10**  \n",
    "> *Buat daftar belanja Anda sendiri dan modifikasi isinya.!*\n",
    "\n",
    "---\n",
    "\n",
    "**✨ Solution**\n",
    "\n",
    "Python Implementation:"
   ]
  },
  {
   "cell_type": "code",
   "execution_count": 10,
   "metadata": {},
   "outputs": [
    {
     "name": "stdout",
     "output_type": "stream",
     "text": [
      "My Shopping list ['Mechanical Keyboard', 'Monitor', 'Lightbar Monitor']\n"
     ]
    }
   ],
   "source": [
    "my_shopping_list = ['Mechanical Keyboard', 'Monitor', 'Mause']\n",
    "\n",
    "my_shopping_list.append('Lightbar Monitor')\n",
    "my_shopping_list.remove('Mause')\n",
    "\n",
    "print(f'My Shopping list {my_shopping_list}')"
   ]
  },
  {
   "cell_type": "markdown",
   "metadata": {},
   "source": [
    "# Thank You  \n",
    "\n",
    "We would like to thank **Almighty God** for all the grace and convenience given to us in completing this task.  \n",
    "\n",
    "We also express our deepest gratitude to **Mrs. Olivia Wardhani, M.Eng.** for the guidance and knowledge that has been provided. Mother's support and guidance was very helpful in understanding the material better.  \n",
    "\n",
    "Don't forget, we would like to express our appreciation to **Sis Ilham** who has helped and provided additional insight so that we can study more effectively.  \n",
    "\n",
    "Thank you for all the knowledge and support provided."
   ]
  }
 ],
 "metadata": {
  "kernelspec": {
   "display_name": "Python 3",
   "language": "python",
   "name": "python3"
  },
  "language_info": {
   "codemirror_mode": {
    "name": "ipython",
    "version": 3
   },
   "file_extension": ".py",
   "mimetype": "text/x-python",
   "name": "python",
   "nbconvert_exporter": "python",
   "pygments_lexer": "ipython3",
   "version": "3.13.0"
  }
 },
 "nbformat": 4,
 "nbformat_minor": 2
}
