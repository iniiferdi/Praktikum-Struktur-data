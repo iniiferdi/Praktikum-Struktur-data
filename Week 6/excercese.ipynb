{
 "cells": [
  {
   "cell_type": "markdown",
   "metadata": {},
   "source": [
    "# 👨‍💻 Ferdiyanto - Tidar University Information Technology  \n",
    "Welcome to my *Jupyter Notebook*!  \n",
    "I am **Ferdiyanto**, a student of **Information Technology** at **Tidar University**.  \n",
    "Currently, I'm learning about **Algoritm Sorting** in programming.  \n",
    "\n",
    "📌 **Read my writing on Medium:**  \n",
    "➡ [Medium - Ferdiyanto](https://medium.com/@akun.ferdiyanto)  \n",
    "\n",
    "📌 **View my portfolio:**  \n",
    "➡ [Portfolio - Ferdiyanto](https://iniiferdi.vercel.app/)  \n",
    "\n",
    "---"
   ]
  },
  {
   "cell_type": "markdown",
   "metadata": {},
   "source": [
    "> **💡 Excercies 1**  \n",
    "> *Implementasi Bubble Sort*\n",
    "\n",
    "---\n",
    "\n",
    "**✨ Solution**\n",
    "\n",
    "Python Implementation:"
   ]
  },
  {
   "cell_type": "code",
   "execution_count": 6,
   "metadata": {},
   "outputs": [
    {
     "name": "stdout",
     "output_type": "stream",
     "text": [
      "❌ Data before sorting         : [64, 34, 25, 12, 22, 11, 90]\n",
      "============================================================\n",
      "✅ Data setelah Bubble Sort    : [11, 12, 22, 25, 34, 64, 90]\n"
     ]
    }
   ],
   "source": [
    "def bubble_sort(arr):\n",
    "    n = len(arr)\n",
    "    for i in range(n - 1):\n",
    "        swapped = False\n",
    "        for j in range(n - i - 1):\n",
    "            if arr[j] > arr[j + 1]:\n",
    "                arr[j], arr[j + 1] = arr[j + 1], arr[j]\n",
    "                swapped = True\n",
    "        if not swapped:\n",
    "            break\n",
    "    return arr\n",
    "\n",
    "data = [64, 34, 25, 12, 22, 11, 90]\n",
    "sorted_data = bubble_sort(data.copy()) \n",
    "print(f\"❌ Data before sorting         : {data}\")\n",
    "print('=' * 60)\n",
    "print(f\"✅ Data setelah Bubble Sort    : {sorted_data}\")\n"
   ]
  },
  {
   "cell_type": "markdown",
   "metadata": {},
   "source": [
    "> **💡 Excercies 2**  \n",
    "> *Implementasi Selection Short*\n",
    "\n",
    "---\n",
    "\n",
    "**✨ Solution**\n",
    "\n",
    "Python Implementation:"
   ]
  },
  {
   "cell_type": "code",
   "execution_count": 9,
   "metadata": {},
   "outputs": [
    {
     "name": "stdout",
     "output_type": "stream",
     "text": [
      "❌ Data before sorting            : [64, 34, 25, 12, 22, 11]\n",
      "============================================================\n",
      "✅ Data setelah Selection Sort    : [11, 12, 22, 25, 34, 64]\n"
     ]
    }
   ],
   "source": [
    "def selection_sort(arr):\n",
    "    n = len(arr)\n",
    "    for i in range(n - 1):\n",
    "        min_index = i \n",
    "        for j in range(i + 1, n):\n",
    "            if arr[j] < arr[min_index]:  \n",
    "                min_index = j\n",
    "     \n",
    "        arr[i], arr[min_index] = arr[min_index], arr[i]\n",
    "    return arr\n",
    "\n",
    "data = [64, 34, 25, 12, 22, 11]\n",
    "sorted_data = selection_sort(data.copy()) \n",
    "print(f\"❌ Data before sorting            : {data}\")\n",
    "print('=' * 60)\n",
    "print(f\"✅ Data setelah Selection Sort    : {sorted_data}\")"
   ]
  },
  {
   "cell_type": "markdown",
   "metadata": {},
   "source": [
    "> **💡 Excercies 3**  \n",
    "> *Implementasi Insertion Sort*\n",
    "\n",
    "---\n",
    "\n",
    "**✨ Solution**\n",
    "\n",
    "Python Implementation:"
   ]
  },
  {
   "cell_type": "code",
   "execution_count": null,
   "metadata": {},
   "outputs": [
    {
     "name": "stdout",
     "output_type": "stream",
     "text": [
      "❌ Data before sorting            : [64, 34, 25, 12, 22, 11, 90]\n",
      "============================================================\n",
      "✅ Data setelah Insertion Sort    : [11, 12, 22, 25, 34, 64, 90]\n"
     ]
    }
   ],
   "source": [
    "def insertion_sort(arr):\n",
    "    n = len(arr)\n",
    "    for i in range(1, n):\n",
    "        key = arr[i]\n",
    "        j = i - 1\n",
    "        while j >= 0 and arr[j] > key:  \n",
    "            arr[j + 1] = arr[j]\n",
    "            j -= 1\n",
    "        arr[j + 1] = key  \n",
    "    return arr\n",
    "\n",
    "data = [64, 34, 25, 12, 22, 11, 90]\n",
    "sorted_data = insertion_sort(data.copy())  \n",
    "print(f\"❌ Data before sorting            : {data}\")\n",
    "print('=' * 60)\n",
    "print(f\"✅ Data setelah Insertion Sort    : {sorted_data}\")"
   ]
  },
  {
   "cell_type": "markdown",
   "metadata": {},
   "source": [
    "> **💡 Excercies 4**  \n",
    "> *Implementasi Marge Sort*\n",
    "\n",
    "---\n",
    "\n",
    "**✨ Solution**\n",
    "\n",
    "Python Implementation:"
   ]
  },
  {
   "cell_type": "code",
   "execution_count": 11,
   "metadata": {},
   "outputs": [
    {
     "name": "stdout",
     "output_type": "stream",
     "text": [
      "❌ Data before sorting        : [64, 34, 25, 12, 22, 11, 90]\n",
      "============================================================\n",
      "✅ Data setelah Marge Sort    : [11, 12, 22, 25, 34, 64, 90]\n"
     ]
    }
   ],
   "source": [
    "def merge_sort(arr):\n",
    "    if len(arr) > 1:\n",
    "        mid = len(arr) // 2\n",
    "        left_half = arr[:mid]   \n",
    "        right_half = arr[mid:]  \n",
    "\n",
    "        merge_sort(left_half)\n",
    "        merge_sort(right_half)\n",
    "\n",
    "        i = j = k = 0\n",
    "\n",
    "        while i < len(left_half) and j < len(right_half):\n",
    "            if left_half[i] < right_half[j]:\n",
    "                arr[k] = left_half[i]\n",
    "                i += 1\n",
    "            else:\n",
    "                arr[k] = right_half[j]\n",
    "                j += 1\n",
    "            k += 1\n",
    "\n",
    "        while i < len(left_half):\n",
    "            arr[k] = left_half[i]\n",
    "            i += 1\n",
    "            k += 1\n",
    "\n",
    "        while j < len(right_half):\n",
    "            arr[k] = right_half[j]\n",
    "            j += 1\n",
    "            k += 1\n",
    "\n",
    "    return arr\n",
    "\n",
    "data = [64, 34, 25, 12, 22, 11, 90]\n",
    "sorted_data = merge_sort(data.copy())\n",
    "print(f\"❌ Data before sorting        : {data}\")\n",
    "print('=' * 60)\n",
    "print(f\"✅ Data setelah Marge Sort    : {sorted_data}\")\n"
   ]
  },
  {
   "cell_type": "markdown",
   "metadata": {},
   "source": [
    "> **💡 Excercies 5**  \n",
    "> *Implementasi Quick Sort*\n",
    "\n",
    "---\n",
    "\n",
    "**✨ Solution**\n",
    "\n",
    "Python Implementation:"
   ]
  },
  {
   "cell_type": "code",
   "execution_count": null,
   "metadata": {},
   "outputs": [
    {
     "name": "stdout",
     "output_type": "stream",
     "text": [
      "❌ Data before sorting        : [64, 25, 12, 22, 11, 90]\n",
      "========================================================\n",
      "✅ Data setelah Quick Sort    : [11, 12, 22, 25, 64, 90]\n"
     ]
    }
   ],
   "source": [
    "def quick_sort(arr):\n",
    "    if len(arr) <= 1:\n",
    "        return arr  \n",
    "\n",
    "    pivot = arr[len(arr) // 2]  \n",
    "    left = [x for x in arr if x < pivot] \n",
    "    middle = [x for x in arr if x == pivot] \n",
    "    right = [x for x in arr if x > pivot] \n",
    "\n",
    "    return quick_sort(left) + middle + quick_sort(right) \n",
    "\n",
    "data = [64, 25, 12, 22, 11, 90]\n",
    "sorted_data = quick_sort(data.copy())  \n",
    "print(f\"❌ Data before sorting        : {data}\")\n",
    "print('=' * 56)\n",
    "print(f\"✅ Data setelah Quick Sort    : {sorted_data}\")"
   ]
  }
 ],
 "metadata": {
  "kernelspec": {
   "display_name": "Python 3",
   "language": "python",
   "name": "python3"
  },
  "language_info": {
   "codemirror_mode": {
    "name": "ipython",
    "version": 3
   },
   "file_extension": ".py",
   "mimetype": "text/x-python",
   "name": "python",
   "nbconvert_exporter": "python",
   "pygments_lexer": "ipython3",
   "version": "3.13.0"
  }
 },
 "nbformat": 4,
 "nbformat_minor": 2
}
