{
 "cells": [
  {
   "cell_type": "markdown",
   "metadata": {},
   "source": [
    "# 👨‍💻 Ferdiyanto - Tidar University Information Technology  \n",
    "Welcome to my *Jupyter Notebook*!  \n",
    "I am **Ferdiyanto**, a student of **Information Technology** at **Tidar University**.  \n",
    "Currently, I'm learning about **Algoritm Sorting** in programming.  \n",
    "\n",
    "📌 **Read my writing on Medium:**  \n",
    "➡ [Medium - Ferdiyanto](https://medium.com/@akun.ferdiyanto)  \n",
    "\n",
    "📌 **View my portfolio:**  \n",
    "➡ [Portfolio - Ferdiyanto](https://iniiferdi.vercel.app/)  \n",
    "\n",
    "---"
   ]
  },
  {
   "cell_type": "markdown",
   "metadata": {},
   "source": [
    "> **💡 Taks**  \n",
    "> *The e-commerce application needs a customer management system to sort customers by name (A-Z), age (youngest to oldest), or total purchases (lowest to highest). Quick Sort is used for its speed and efficiency in handling large datasets.*\n",
    "\n",
    "---\n",
    "\n",
    "**✨ Solution**\n",
    "\n",
    "Python Implementation:"
   ]
  },
  {
   "cell_type": "code",
   "execution_count": null,
   "metadata": {},
   "outputs": [
    {
     "name": "stdout",
     "output_type": "stream",
     "text": [
      "\n",
      "Sort by Name (A-Z)\n",
      "+--------+-------+------------------+\n",
      "| Name   |   Age |   Total Purchase |\n",
      "+========+=======+==================+\n",
      "| Andi   |    30 |           200000 |\n",
      "+--------+-------+------------------+\n",
      "| Budi   |    25 |           500000 |\n",
      "+--------+-------+------------------+\n",
      "| Citra  |    22 |           750000 |\n",
      "+--------+-------+------------------+\n",
      "| Dewi   |    28 |           300000 |\n",
      "+--------+-------+------------------+\n",
      "\n",
      "Sort by Age (Youngest-Oldest)\n",
      "+--------+-------+------------------+\n",
      "| Name   |   Age |   Total Purchase |\n",
      "+========+=======+==================+\n",
      "| Citra  |    22 |           750000 |\n",
      "+--------+-------+------------------+\n",
      "| Budi   |    25 |           500000 |\n",
      "+--------+-------+------------------+\n",
      "| Dewi   |    28 |           300000 |\n",
      "+--------+-------+------------------+\n",
      "| Andi   |    30 |           200000 |\n",
      "+--------+-------+------------------+\n",
      "\n",
      "Sort by Total Purchase (Lowest-Highest)\n",
      "+--------+-------+------------------+\n",
      "| Name   |   Age |   Total Purchase |\n",
      "+========+=======+==================+\n",
      "| Andi   |    30 |           200000 |\n",
      "+--------+-------+------------------+\n",
      "| Dewi   |    28 |           300000 |\n",
      "+--------+-------+------------------+\n",
      "| Budi   |    25 |           500000 |\n",
      "+--------+-------+------------------+\n",
      "| Citra  |    22 |           750000 |\n",
      "+--------+-------+------------------+\n"
     ]
    }
   ],
   "source": [
    "from tabulate import tabulate\n",
    "\n",
    "customers = [\n",
    "    {\"Name\": \"Budi\", \"Age\": 25, \"Total Purchase\": 500000},\n",
    "    {\"Name\": \"Andi\", \"Age\": 30, \"Total Purchase\": 200000},\n",
    "    {\"Name\": \"Citra\", \"Age\": 22, \"Total Purchase\": 750000},\n",
    "    {\"Name\": \"Dewi\", \"Age\": 28, \"Total Purchase\": 300000}\n",
    "]\n",
    "\n",
    "def quick_sort(arr, key):\n",
    "    if len(arr) <= 1:\n",
    "        return arr\n",
    "    \n",
    "    pivot = arr[len(arr) // 2]\n",
    "    left = [x for x in arr if x[key] < pivot[key]]\n",
    "    middle = [x for x in arr if x[key] == pivot[key]]\n",
    "    right = [x for x in arr if x[key] > pivot[key]]\n",
    "    \n",
    "    return quick_sort(left, key) + middle + quick_sort(right, key)\n",
    "\n",
    "def print_table(data, title):\n",
    "    print(f\"\\n{title}\")\n",
    "    print(tabulate(data, headers=\"keys\", tablefmt=\"grid\"))\n",
    "\n",
    "print_table(quick_sort(customers, \"Name\"), \"Sort by Name (A-Z)\")\n",
    "print_table(quick_sort(customers, \"Age\"), \"Sort by Age (Youngest-Oldest)\")\n",
    "print_table(quick_sort(customers, \"Total Purchase\"), \"Sort by Total Purchase (Lowest-Highest)\")\n"
   ]
  }
 ],
 "metadata": {
  "kernelspec": {
   "display_name": "Python 3",
   "language": "python",
   "name": "python3"
  },
  "language_info": {
   "codemirror_mode": {
    "name": "ipython",
    "version": 3
   },
   "file_extension": ".py",
   "mimetype": "text/x-python",
   "name": "python",
   "nbconvert_exporter": "python",
   "pygments_lexer": "ipython3",
   "version": "3.13.0"
  }
 },
 "nbformat": 4,
 "nbformat_minor": 2
}
