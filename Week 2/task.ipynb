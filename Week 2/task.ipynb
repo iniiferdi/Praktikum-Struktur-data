{
 "cells": [
  {
   "cell_type": "markdown",
   "metadata": {},
   "source": [
    "# 👨‍💻 Ferdiyanto - Tidar University Information Technology  \n",
    "Welcome to my *Jupyter Notebook*!  \n",
    "I am **Ferdiyanto**, a student of **Information Technology** at **Tidar University**.  \n",
    "Currently, I'm learning about **Linked List** in programming.  \n",
    "\n",
    "📌 **Read my writing on Medium:**  \n",
    "➡ [Medium - Ferdiyanto](https://medium.com/@akun.ferdiyanto)  \n",
    "\n",
    "📌 **View my portfolio:**  \n",
    "➡ [Portfolio - Ferdiyanto](https://iniiferdi.vercel.app/)  \n",
    "\n",
    "---"
   ]
  },
  {
   "cell_type": "markdown",
   "metadata": {},
   "source": [
    "> **💡 Security guard picket schedule application**  \n",
    "> *Implementation of a Circular Linked List to automatically set picket schedules for 4 security guards for 14 days*\n",
    "\n",
    "---\n",
    "\n",
    "**✨ Solution**\n",
    "\n",
    "Python Implementation:"
   ]
  },
  {
   "cell_type": "code",
   "execution_count": 3,
   "metadata": {},
   "outputs": [
    {
     "name": "stdout",
     "output_type": "stream",
     "text": [
      "\n",
      "⭐ Jadwal Piket Satpam Selama 2 Minggu:\n",
      "\n",
      "Hari 1: David Nazal\n",
      "Hari 2: Dzakii\n",
      "Hari 3: yogi\n",
      "Hari 4: Ferdi\n",
      "Hari 5: David Nazal\n",
      "Hari 6: Dzakii\n",
      "Hari 7: yogi\n",
      "Hari 8: Ferdi\n",
      "Hari 9: David Nazal\n",
      "Hari 10: Dzakii\n",
      "Hari 11: yogi\n",
      "Hari 12: Ferdi\n",
      "Hari 13: David Nazal\n",
      "Hari 14: Dzakii\n"
     ]
    }
   ],
   "source": [
    "class Node:\n",
    "    def __init__(self, name):\n",
    "        self.name = name\n",
    "        self.next = None\n",
    "\n",
    "class CircularLinkedList:\n",
    "    def __init__(self):\n",
    "        self.head = None\n",
    "\n",
    "    def add_satpam(self, name):\n",
    "        new_node = Node(name)\n",
    "        if not self.head:\n",
    "            self.head = new_node\n",
    "            self.head.next = self.head  # Circular reference\n",
    "        else:\n",
    "            temp = self.head\n",
    "            while temp.next != self.head:\n",
    "                temp = temp.next\n",
    "            temp.next = new_node\n",
    "            new_node.next = self.head\n",
    "\n",
    "    def print_schedule(self, days):\n",
    "        if not self.head:\n",
    "            print(\"Belum ada satpam yang dimasukkan!\")\n",
    "            return\n",
    "\n",
    "        print(\"\\n⭐ Jadwal Piket Satpam Selama 2 Minggu:\\n\")\n",
    "        temp = self.head\n",
    "        for day in range(1, days + 1):\n",
    "            print(f\"Hari {day}: {temp.name}\")\n",
    "            temp = temp.next  # Geser ke satpam berikutnya\n",
    "\n",
    "# Input nama satpam dari pengguna\n",
    "circular_list = CircularLinkedList()\n",
    "for i in range(4):\n",
    "    name = input(f\"Masukkan nama satpam ke-{i+1}: \")\n",
    "    circular_list.add_satpam(name)\n",
    "\n",
    "# Cetak jadwal piket selama 14 hari\n",
    "circular_list.print_schedule(14)\n"
   ]
  },
  {
   "cell_type": "markdown",
   "metadata": {},
   "source": [
    "# Thank You  \n",
    "\n",
    "We would like to thank **Almighty God** for all the grace and convenience given to us in completing this task.  \n",
    "\n",
    "We also express our deepest gratitude to **Mrs. Olivia Wardhani, M.Eng.** for the guidance and knowledge that has been provided. Mother's support and guidance was very helpful in understanding the material better.  \n",
    "\n",
    "Don't forget, we would like to express our appreciation to **Sis Ilham** who has helped and provided additional insight so that we can study more effectively.  \n",
    "\n",
    "Thank you for all the knowledge and support provided."
   ]
  }
 ],
 "metadata": {
  "kernelspec": {
   "display_name": "Python 3",
   "language": "python",
   "name": "python3"
  },
  "language_info": {
   "codemirror_mode": {
    "name": "ipython",
    "version": 3
   },
   "file_extension": ".py",
   "mimetype": "text/x-python",
   "name": "python",
   "nbconvert_exporter": "python",
   "pygments_lexer": "ipython3",
   "version": "3.13.0"
  }
 },
 "nbformat": 4,
 "nbformat_minor": 2
}
