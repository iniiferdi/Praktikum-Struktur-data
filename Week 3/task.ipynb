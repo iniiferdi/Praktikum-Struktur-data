{
 "cells": [
  {
   "cell_type": "markdown",
   "metadata": {},
   "source": [
    "# 👨‍💻 Ferdiyanto - Tidar University Information Technology  \n",
    "Welcome to my *Jupyter Notebook*!  \n",
    "I am **Ferdiyanto**, a student of **Information Technology** at **Tidar University**.  \n",
    "Currently, I'm learning about **Stack** in programming.  \n",
    "\n",
    "📌 **Read my writing on Medium:**  \n",
    "➡ [Medium - Ferdiyanto](https://medium.com/@akun.ferdiyanto)  \n",
    "\n",
    "📌 **View my portfolio:**  \n",
    "➡ [Portfolio - Ferdiyanto](https://iniiferdi.vercel.app/)  \n",
    "\n",
    "---"
   ]
  },
  {
   "cell_type": "markdown",
   "metadata": {},
   "source": [
    "> **💡 Tower of Hanoi**  \n",
    "> *Tower of Hanoi adalah permainan klasik di mana pemain harus memindahkan tumpukan cakram dari satu tiang ke tiang lain, mengikuti aturan tertentu. Stack digunakan untuk menyimpan cakram pada masing-masing tiang dan memastikan bahwa cakram teratas selalu diambil terlebih dahulu (prinsip LIFO).*\n",
    "\n",
    "---\n",
    "\n",
    "**✨ Solution**\n",
    "\n",
    "Python Implementation:"
   ]
  },
  {
   "cell_type": "code",
   "execution_count": null,
   "metadata": {},
   "outputs": [
    {
     "name": "stdout",
     "output_type": "stream",
     "text": [
      "A: [3, 2, 1]\n",
      "B: []\n",
      "C: []\n",
      "Langkah: 0/7\n",
      "\n",
      "Memindahkan cakram 1 dari A ke C\n",
      "A: [3, 2]\n",
      "B: []\n",
      "C: [1]\n",
      "Langkah: 1/7\n",
      "\n",
      "Memindahkan cakram 2 dari A ke B\n",
      "A: [3]\n",
      "B: [2]\n",
      "C: [1]\n",
      "Langkah: 2/7\n",
      "\n",
      "Memindahkan cakram 1 dari C ke B\n",
      "A: [3]\n",
      "B: [2, 1]\n",
      "C: []\n",
      "Langkah: 3/7\n",
      "\n",
      "Memindahkan cakram 3 dari A ke C\n",
      "A: []\n",
      "B: [2, 1]\n",
      "C: [3]\n",
      "Langkah: 4/7\n",
      "\n"
     ]
    }
   ],
   "source": [
    "class TowerOfHanoi:\n",
    "    def __init__(self, num_disks, max_moves):\n",
    "        self.num_disks = num_disks\n",
    "        self.max_moves = max_moves\n",
    "        self.moves = 0\n",
    "        self.towers = {\n",
    "            'A': list(range(num_disks, 0, -1)),\n",
    "            'B': [],\n",
    "            'C': []\n",
    "        }\n",
    "    \n",
    "    def move_disk(self, from_tower, to_tower):\n",
    "        if self.moves >= self.max_moves:\n",
    "            print(\"Batas langkah tercapai!\")\n",
    "            return\n",
    "        \n",
    "        if not self.towers[from_tower]:\n",
    "            print(f\"Menara {from_tower} kosong!\")\n",
    "            return\n",
    "        \n",
    "        if self.towers[to_tower] and self.towers[to_tower][-1] < self.towers[from_tower][-1]:\n",
    "            print(\"Gerakan tidak valid! Tidak bisa meletakkan cakram yang lebih besar di atas yang lebih kecil.\")\n",
    "            return\n",
    "        \n",
    "        disk = self.towers[from_tower].pop()\n",
    "        self.towers[to_tower].append(disk)\n",
    "        self.moves += 1\n",
    "        print(f\"Memindahkan cakram {disk} dari {from_tower} ke {to_tower}\")\n",
    "        self.display_towers()\n",
    "    \n",
    "    def display_towers(self):\n",
    "        for tower in self.towers:\n",
    "            print(f\"{tower}: {self.towers[tower]}\")\n",
    "        print(f\"Langkah: {self.moves}/{self.max_moves}\\n\")\n",
    "\n",
    "num_disks = 3\n",
    "max_moves = 7\n",
    "\n",
    "# Memulai permainan\n",
    "game = TowerOfHanoi(num_disks, max_moves)\n",
    "game.display_towers()\n",
    "\n",
    "game.move_disk('A', 'C')\n",
    "game.move_disk('A', 'B')\n",
    "game.move_disk('C', 'B')\n",
    "game.move_disk('A', 'C')\n"
   ]
  }
 ],
 "metadata": {
  "kernelspec": {
   "display_name": "Python 3",
   "language": "python",
   "name": "python3"
  },
  "language_info": {
   "codemirror_mode": {
    "name": "ipython",
    "version": 3
   },
   "file_extension": ".py",
   "mimetype": "text/x-python",
   "name": "python",
   "nbconvert_exporter": "python",
   "pygments_lexer": "ipython3",
   "version": "3.13.0"
  }
 },
 "nbformat": 4,
 "nbformat_minor": 2
}
