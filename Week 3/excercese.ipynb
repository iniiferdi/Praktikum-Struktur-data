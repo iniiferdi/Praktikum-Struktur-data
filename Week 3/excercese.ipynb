{
 "cells": [
  {
   "cell_type": "markdown",
   "metadata": {},
   "source": [
    "# 👨‍💻 Ferdiyanto - Tidar University Information Technology  \n",
    "Welcome to my *Jupyter Notebook*!  \n",
    "I am **Ferdiyanto**, a student of **Information Technology** at **Tidar University**.  \n",
    "Currently, I'm learning about **Stack** in programming.  \n",
    "\n",
    "📌 **Read my writing on Medium:**  \n",
    "➡ [Medium - Ferdiyanto](https://medium.com/@akun.ferdiyanto)  \n",
    "\n",
    "📌 **View my portfolio:**  \n",
    "➡ [Portfolio - Ferdiyanto](https://iniiferdi.vercel.app/)  \n",
    "\n",
    "---"
   ]
  },
  {
   "cell_type": "markdown",
   "metadata": {},
   "source": [
    "> **💡 Excercies 1**  \n",
    "> *Buatlah program \"Undo Perintah Kalkulator\", di mana setiap operasi matematikayang dilakukan disimpan dalam Stack. Jika pengguna menekan Undo, operasiterakhir dibatalkan. Gunakan dua digit terakhir NPM sebagai angka awal. Lakukan minimal 3 operasi matematika sebelum menguji fitur Undo.*\n",
    "\n",
    "---\n",
    "\n",
    "**✨ Solution**\n",
    "\n",
    "Python Implementation:"
   ]
  },
  {
   "cell_type": "code",
   "execution_count": 6,
   "metadata": {},
   "outputs": [
    {
     "name": "stdout",
     "output_type": "stream",
     "text": [
      "Current Value: 14\n",
      "After Undo: 24\n",
      "After Undo: 12\n",
      "After Undo: 7\n"
     ]
    }
   ],
   "source": [
    "class Calculator:\n",
    "    def __init__(self, initial_value):\n",
    "        self.history = [initial_value]\n",
    "        \n",
    "    def add(self, value):\n",
    "        self.history.append(self.history[-1] + value)\n",
    "\n",
    "    def subtract(self, value):\n",
    "        self.history.append(self.history[-1] - value)\n",
    "    \n",
    "    def multiply(self, value):\n",
    "        self.history.append(self.history[-1] * value)\n",
    "    \n",
    "    def divide(self, value):\n",
    "        if value != 0:\n",
    "            self.history.append(self.history[-1] / value)\n",
    "        else:\n",
    "            print(\"Error: Division by zero is not allowed.\")\n",
    "            \n",
    "    def undo(self):\n",
    "        if len(self.history) > 1:\n",
    "            self.history.pop()\n",
    "        else:\n",
    "            print(\"No operation to undo.\")\n",
    "    \n",
    "    def get_current_value(self):\n",
    "        return self.history[-1]\n",
    "\n",
    "calculator = Calculator(7)\n",
    "\n",
    "\n",
    "calculator.add(5)\n",
    "calculator.multiply(2)\n",
    "calculator.subtract(10)\n",
    "\n",
    "print(\"Current Value:\", calculator.get_current_value())\n",
    "\n",
    "calculator.undo()\n",
    "print(\"After Undo:\", calculator.get_current_value())\n",
    "calculator.undo()\n",
    "print(\"After Undo:\", calculator.get_current_value())\n",
    "calculator.undo()\n",
    "print(\"After Undo:\", calculator.get_current_value())"
   ]
  },
  {
   "cell_type": "markdown",
   "metadata": {},
   "source": [
    "> **💡 Excercies 2**  \n",
    "> *Buatlah program \"Navigasi History Aplikasi Mobile\", di mana fitur aplikasi yangdikunjungi disimpan dalam Stack.- Gunakan huruf pertama bulan lahir + dua digitterakhir NPM sebagai nama fitur aplikasi. Simpan minimal 3 fitur sebelum mengujitombol Back.*\n",
    "\n",
    "---\n",
    "\n",
    "**✨ Solution**\n",
    "\n",
    "Python Implementation:"
   ]
  },
  {
   "cell_type": "code",
   "execution_count": 8,
   "metadata": {},
   "outputs": [
    {
     "name": "stdout",
     "output_type": "stream",
     "text": [
      "Mengunjungi: M07-ControlCenter\n",
      "Mengunjungi: M07-InstaPay\n",
      "Mengunjungi: M07-FastCharge\n",
      "Fitur saat ini: M07-FastCharge\n",
      "Kembali ke: M07-InstaPay\n",
      "Fitur saat ini: M07-InstaPay\n",
      "Kembali ke: M07-ControlCenter\n",
      "Fitur saat ini: M07-ControlCenter\n",
      "Tidak ada riwayat sebelumnya!\n"
     ]
    }
   ],
   "source": [
    "from collections import deque\n",
    "\n",
    "class MobileAppsHistory:\n",
    "    def __init__(self):\n",
    "        self.history = deque()\n",
    "    \n",
    "    def visit(self, feature):\n",
    "        self.history.append(feature)\n",
    "        print(f\"Mengunjungi: {feature}\")\n",
    "    \n",
    "    def back(self):\n",
    "        if len(self.history) > 1:\n",
    "            self.history.pop()\n",
    "            print(f\"Kembali ke: {self.history[-1]}\")\n",
    "        else:\n",
    "            print(\"Tidak ada riwayat sebelumnya!\")\n",
    "\n",
    "mobile_apps = MobileAppsHistory()\n",
    "mobile_apps.visit(\"M07-ControlCenter\")\n",
    "mobile_apps.visit(\"M07-InstaPay\")\n",
    "mobile_apps.visit(\"M07-FastCharge\")\n",
    "\n",
    "print(\"Fitur saat ini:\", mobile_apps.history[-1])\n",
    "\n",
    "mobile_apps.back()\n",
    "print(\"Fitur saat ini:\", mobile_apps.history[-1])\n",
    "mobile_apps.back()\n",
    "print(\"Fitur saat ini:\", mobile_apps.history[-1])\n",
    "mobile_apps.back()"
   ]
  },
  {
   "cell_type": "markdown",
   "metadata": {},
   "source": [
    "> **💡 Excercies 3**  \n",
    "> *Buatlah program \"Sistem Penyimpanan Draft Email\", di mana email yang belum dikirim disimpan dalam Stack. Gunakan dua huruf pertama nama mahasiswa + dua digit terakhir NPM sebagai subjek email. Simpan minimal 3 draft email sebelum menguji fitur \"Lihat Draft Terakhir\".*\n",
    "\n",
    "---\n",
    "\n",
    "**✨ Solution**\n",
    "\n",
    "Python Implementation:"
   ]
  },
  {
   "cell_type": "code",
   "execution_count": null,
   "metadata": {},
   "outputs": [
    {
     "name": "stdout",
     "output_type": "stream",
     "text": [
      "Draft disimpan: Fe07-Permohonan Magang\n",
      "Draft disimpan: Fe07-Laporan Akhir\n",
      "Draft disimpan: Fe07-Undangan Webinar\n",
      "Draft Terbaru:\n",
      "Subjek: Fe07-Undangan Webinar\n",
      "Isi: Halo, saya ingin mengundang Anda ke webinar kami...\n"
     ]
    }
   ],
   "source": [
    "from queue import LifoQueue\n",
    "\n",
    "class EmailDraftStorage:\n",
    "    def __init__(self):\n",
    "        self.drafts = LifoQueue()\n",
    "    \n",
    "    def save_draft(self, subject, content):\n",
    "        self.drafts.put((subject, content))\n",
    "        print(f\"Draft disimpan: {subject}\")\n",
    "    \n",
    "    def latest_draft(self):\n",
    "        if not self.drafts.empty():\n",
    "            subject, content = self.drafts.queue[-1]\n",
    "            return f\"Draft Terbaru:\\nSubjek: {subject}\\nIsi: {content}\"\n",
    "        return \"Tidak ada draft!\"\n",
    "\n",
    "draft_storage = EmailDraftStorage()\n",
    "draft_storage.save_draft(\"Fe07-Permohonan Magang\", \"Yth. HRD, Saya ingin mengajukan permohonan magang...\")\n",
    "draft_storage.save_draft(\"Fe07-Laporan Akhir\", \"Berikut adalah laporan akhir proyek penelitian...\")\n",
    "draft_storage.save_draft(\"Fe07-Undangan Webinar\", \"Halo, saya ingin mengundang Anda ke webinar kami...\")\n",
    "\n",
    "print(draft_storage.latest_draft())\n"
   ]
  },
  {
   "cell_type": "markdown",
   "metadata": {},
   "source": [
    "> **💡 Excercies 4**  \n",
    "> *Buatlah program \"Sistem Antrean Tiket Bioskop\", di mana pelanggan membeli tiket film dan antrean disimpan dalam Stack. Gunakan huruf pertama bulan lahir + dua digit terakhir NPM sebagai nama film. Beli minimal 3 tiket sebelum menguji sistem pemrosesan tiket.*\n",
    "\n",
    "---\n",
    "\n",
    "**✨ Solution**\n",
    "\n",
    "Python Implementation:"
   ]
  },
  {
   "cell_type": "code",
   "execution_count": 10,
   "metadata": {},
   "outputs": [
    {
     "name": "stdout",
     "output_type": "stream",
     "text": [
      "Tiket ditambahkan: Tiket 001 - F07-Adventure\n",
      "Tiket ditambahkan: Tiket 002 - F07-Adventure\n",
      "Tiket ditambahkan: Tiket 003 - F07-Adventure\n",
      "Memproses tiket: Tiket 003 - F07-Adventure\n",
      "Memproses tiket: Tiket 002 - F07-Adventure\n",
      "Memproses tiket: Tiket 001 - F07-Adventure\n",
      "Apakah antrean kosong? True\n"
     ]
    }
   ],
   "source": [
    "class CinemaTickets:\n",
    "    def __init__(self):\n",
    "        self.tickets = []\n",
    "    \n",
    "    def add_ticket(self, ticket):\n",
    "        self.tickets.append(ticket)\n",
    "        print(f\"Tiket ditambahkan: {ticket}\")\n",
    "    \n",
    "    def process_ticket(self):\n",
    "        if not self.is_empty():\n",
    "            return f\"Memproses tiket: {self.tickets.pop()}\"\n",
    "        return \"Tidak ada tiket yang harus diproses.\"\n",
    "    \n",
    "    def is_empty(self):\n",
    "        return len(self.tickets) == 0\n",
    "\n",
    "film_name = \"F07-Adventure\"\n",
    "\n",
    "# Membeli tiket\n",
    "service = CinemaTickets()\n",
    "service.add_ticket(f\"Tiket 001 - {film_name}\")\n",
    "service.add_ticket(f\"Tiket 002 - {film_name}\")\n",
    "service.add_ticket(f\"Tiket 003 - {film_name}\")\n",
    "\n",
    "# Memproses tiket satu per satu\n",
    "print(service.process_ticket())\n",
    "print(service.process_ticket())\n",
    "print(service.process_ticket())\n",
    "\n",
    "# Mengecek apakah antrean kosong\n",
    "print(\"Apakah antrean kosong?\", service.is_empty())"
   ]
  }
 ],
 "metadata": {
  "kernelspec": {
   "display_name": "Python 3",
   "language": "python",
   "name": "python3"
  },
  "language_info": {
   "codemirror_mode": {
    "name": "ipython",
    "version": 3
   },
   "file_extension": ".py",
   "mimetype": "text/x-python",
   "name": "python",
   "nbconvert_exporter": "python",
   "pygments_lexer": "ipython3",
   "version": "3.13.0"
  }
 },
 "nbformat": 4,
 "nbformat_minor": 2
}
